{
 "cells": [
  {
   "cell_type": "markdown",
   "id": "a9d10db3",
   "metadata": {
    "papermill": {
     "duration": 0.006414,
     "end_time": "2022-08-17T12:23:11.057493",
     "exception": false,
     "start_time": "2022-08-17T12:23:11.051079",
     "status": "completed"
    },
    "tags": []
   },
   "source": [
    "# DFL benchmark - inference\n",
    "This is a simple benchmark script for DFL.  \n",
    "It classifies each frame image in the video into 4 classes（'background','challenge','play','throwin'）.  \n",
    "It does not use temporal information, so it may not be competitive on its own for this competition, but it could be used as a feature extractor for more advanced models.\n",
    "\n",
    "[Training part](https://www.kaggle.com/code/its7171/dfl-benchmark-training)\n",
    "\n"
   ]
  },
  {
   "cell_type": "code",
   "execution_count": 1,
   "id": "dfc0a6d5",
   "metadata": {
    "_kg_hide-input": true,
    "_kg_hide-output": true,
    "execution": {
     "iopub.execute_input": "2022-08-17T12:23:11.070026Z",
     "iopub.status.busy": "2022-08-17T12:23:11.069361Z",
     "iopub.status.idle": "2022-08-17T12:23:14.753022Z",
     "shell.execute_reply": "2022-08-17T12:23:14.751015Z"
    },
    "papermill": {
     "duration": 3.694855,
     "end_time": "2022-08-17T12:23:14.756964",
     "exception": false,
     "start_time": "2022-08-17T12:23:11.062109",
     "status": "completed"
    },
    "tags": []
   },
   "outputs": [],
   "source": [
    "!mkdir -p ../work\n",
    "!cd ../work && tar xfz ../input/dflfiles/timm.tgz\n",
    "import sys\n",
    "sys.path.append('../work/timm/pytorch-image-models')\n"
   ]
  },
  {
   "cell_type": "code",
   "execution_count": 2,
   "id": "d69e9791",
   "metadata": {
    "_kg_hide-input": true,
    "_kg_hide-output": true,
    "execution": {
     "iopub.execute_input": "2022-08-17T12:23:14.770317Z",
     "iopub.status.busy": "2022-08-17T12:23:14.769055Z",
     "iopub.status.idle": "2022-08-17T12:23:19.075567Z",
     "shell.execute_reply": "2022-08-17T12:23:19.073826Z"
    },
    "papermill": {
     "duration": 4.316642,
     "end_time": "2022-08-17T12:23:19.079029",
     "exception": false,
     "start_time": "2022-08-17T12:23:14.762387",
     "status": "completed"
    },
    "tags": []
   },
   "outputs": [],
   "source": [
    "import glob\n",
    "import os\n",
    "from tqdm.auto import tqdm\n",
    "from multiprocessing import Pool, cpu_count\n",
    "import cv2\n",
    "import time\n",
    "import argparse\n",
    "import logging\n",
    "import numpy as np\n",
    "import torch\n",
    "\n",
    "from timm.models import create_model, apply_test_time_pool\n",
    "from timm.data import ImageDataset, create_loader, resolve_data_config\n",
    "from timm.utils import AverageMeter, setup_default_logging"
   ]
  },
  {
   "cell_type": "code",
   "execution_count": 3,
   "id": "63e38234",
   "metadata": {
    "execution": {
     "iopub.execute_input": "2022-08-17T12:23:19.091342Z",
     "iopub.status.busy": "2022-08-17T12:23:19.089657Z",
     "iopub.status.idle": "2022-08-17T12:23:19.096971Z",
     "shell.execute_reply": "2022-08-17T12:23:19.095727Z"
    },
    "papermill": {
     "duration": 0.015924,
     "end_time": "2022-08-17T12:23:19.099779",
     "exception": false,
     "start_time": "2022-08-17T12:23:19.083855",
     "status": "completed"
    },
    "tags": []
   },
   "outputs": [],
   "source": [
    "VALID = True # for validation\n",
    "TEST = True # for submission"
   ]
  },
  {
   "cell_type": "markdown",
   "id": "de9d3d73",
   "metadata": {
    "papermill": {
     "duration": 0.004311,
     "end_time": "2022-08-17T12:23:19.108308",
     "exception": false,
     "start_time": "2022-08-17T12:23:19.103997",
     "status": "completed"
    },
    "tags": []
   },
   "source": [
    "# Extract images"
   ]
  },
  {
   "cell_type": "code",
   "execution_count": 4,
   "id": "13bf7b1c",
   "metadata": {
    "_cell_guid": "b1076dfc-b9ad-4769-8c92-a6c4dae69d19",
    "_kg_hide-output": true,
    "_uuid": "8f2839f25d086af736a60e9eeb907d3b93b6e0e5",
    "execution": {
     "iopub.execute_input": "2022-08-17T12:23:19.119829Z",
     "iopub.status.busy": "2022-08-17T12:23:19.118664Z",
     "iopub.status.idle": "2022-08-17T13:21:56.061350Z",
     "shell.execute_reply": "2022-08-17T13:21:56.059729Z"
    },
    "papermill": {
     "duration": 3516.951871,
     "end_time": "2022-08-17T13:21:56.064581",
     "exception": false,
     "start_time": "2022-08-17T12:23:19.112710",
     "status": "completed"
    },
    "tags": []
   },
   "outputs": [
    {
     "name": "stdout",
     "output_type": "stream",
     "text": [
      "../input/dfl-bundesliga-data-shootout/test/019d5b34_0.mp4\n",
      "../input/dfl-bundesliga-data-shootout/test/019d5b34_1.mp4\n",
      "../input/dfl-bundesliga-data-shootout/test/0b1495d3_0.mp4\n",
      "../input/dfl-bundesliga-data-shootout/test/0b1495d3_1.mp4\n",
      "../input/dfl-bundesliga-data-shootout/test/160606be_0.mp4\n",
      "../input/dfl-bundesliga-data-shootout/test/160606be_1.mp4\n",
      "../input/dfl-bundesliga-data-shootout/test/2f54ed1c_0.mp4\n",
      "../input/dfl-bundesliga-data-shootout/test/2f54ed1c_1.mp4\n",
      "../input/dfl-bundesliga-data-shootout/test/4dae79a9_0.mp4\n",
      "../input/dfl-bundesliga-data-shootout/test/4dae79a9_1.mp4\n",
      "../input/dfl-bundesliga-data-shootout/test/5dc4fe12_0.mp4\n",
      "../input/dfl-bundesliga-data-shootout/test/5dc4fe12_1.mp4\n",
      "../input/dfl-bundesliga-data-shootout/test/947e05ca_0.mp4\n",
      "../input/dfl-bundesliga-data-shootout/test/947e05ca_1.mp4\n",
      "../input/dfl-bundesliga-data-shootout/test/9a70c54e_0.mp4\n",
      "../input/dfl-bundesliga-data-shootout/test/9a70c54e_1.mp4\n",
      "../input/dfl-bundesliga-data-shootout/test/9d3c239b_0.mp4\n",
      "../input/dfl-bundesliga-data-shootout/test/9d3c239b_1.mp4\n",
      "../input/dfl-bundesliga-data-shootout/test/9f4df856_0.mp4\n",
      "../input/dfl-bundesliga-data-shootout/test/9f4df856_1.mp4\n",
      "../input/dfl-bundesliga-data-shootout/test/b2939d3c_0.mp4\n",
      "../input/dfl-bundesliga-data-shootout/test/b2939d3c_1.mp4\n",
      "../input/dfl-bundesliga-data-shootout/test/e660601b_0.mp4\n",
      "../input/dfl-bundesliga-data-shootout/test/e660601b_1.mp4\n",
      "../input/dfl-bundesliga-data-shootout/test/e9d974aa_0.mp4\n",
      "../input/dfl-bundesliga-data-shootout/test/e9d974aa_1.mp4\n",
      "../input/dfl-bundesliga-data-shootout/test/ec9f4e2b_0.mp4\n",
      "../input/dfl-bundesliga-data-shootout/test/ec9f4e2b_1.mp4\n",
      "../input/dfl-bundesliga-data-shootout/test/ef4c2eb9_0.mp4\n",
      "../input/dfl-bundesliga-data-shootout/test/ef4c2eb9_1.mp4\n",
      "../input/dfl-bundesliga-data-shootout/test/fdf84965_0.mp4\n",
      "../input/dfl-bundesliga-data-shootout/test/fdf84965_1.mp4\n",
      "../input/dfl-bundesliga-data-shootout/train/3c993bd2_0.mp4\n",
      "../input/dfl-bundesliga-data-shootout/train/3c993bd2_1.mp4\n"
     ]
    }
   ],
   "source": [
    "def extract_images(video_path, out_dir):\n",
    "    video_name = os.path.basename(video_path).split('.')[0]\n",
    "    cam = cv2.VideoCapture(video_path)\n",
    "    print(video_path)\n",
    "    frame_count = 1\n",
    "    while True:\n",
    "        successed, img = cam.read()\n",
    "        if not successed:\n",
    "            break\n",
    "        outfile = f'{out_dir}/{video_name}-{frame_count:06}.jpg'\n",
    "        img = cv2.resize(img, dsize=IMG_SIZE)\n",
    "        cv2.imwrite(outfile, img)\n",
    "        #print(outfile)\n",
    "        frame_count += 1    \n",
    "            \n",
    "IMG_SIZE = (456, 456)\n",
    "\n",
    "if TEST:\n",
    "    OUT_DIR = '../work/extracted_images_test'\n",
    "    IN_DIR = '../input/dfl-bundesliga-data-shootout/test'\n",
    "    IN_VIDEOS = sorted(glob.glob('../input/dfl-bundesliga-data-shootout/test/*'))\n",
    "    !mkdir -p $OUT_DIR\n",
    "    for video_path in IN_VIDEOS:\n",
    "        extract_images(video_path, OUT_DIR)\n",
    "    \n",
    "\n",
    "if VALID:\n",
    "    OUT_DIR = '../work/extracted_images_train'\n",
    "    IN_DIR = '../input/dfl-bundesliga-data-shootout/train'\n",
    "    IN_VIDEOS = ['../input/dfl-bundesliga-data-shootout/train/3c993bd2_0.mp4','../input/dfl-bundesliga-data-shootout/train/3c993bd2_1.mp4']\n",
    "    !mkdir -p $OUT_DIR\n",
    "    for video_path in IN_VIDEOS:\n",
    "        extract_images(video_path, OUT_DIR)"
   ]
  },
  {
   "cell_type": "markdown",
   "id": "e670299e",
   "metadata": {
    "papermill": {
     "duration": 0.005786,
     "end_time": "2022-08-17T13:21:56.089041",
     "exception": false,
     "start_time": "2022-08-17T13:21:56.083255",
     "status": "completed"
    },
    "tags": []
   },
   "source": [
    "# Classify images using timm."
   ]
  },
  {
   "cell_type": "code",
   "execution_count": 5,
   "id": "bf07aa10",
   "metadata": {
    "_kg_hide-input": true,
    "_kg_hide-output": true,
    "execution": {
     "iopub.execute_input": "2022-08-17T13:21:56.105976Z",
     "iopub.status.busy": "2022-08-17T13:21:56.105624Z",
     "iopub.status.idle": "2022-08-17T13:21:56.123475Z",
     "shell.execute_reply": "2022-08-17T13:21:56.122321Z"
    },
    "papermill": {
     "duration": 0.03125,
     "end_time": "2022-08-17T13:21:56.126474",
     "exception": false,
     "start_time": "2022-08-17T13:21:56.095224",
     "status": "completed"
    },
    "tags": []
   },
   "outputs": [],
   "source": [
    "# copyed from timm inference.py\n",
    "\n",
    "\n",
    "torch.backends.cudnn.benchmark = True\n",
    "_logger = logging.getLogger('inference')\n",
    "\n",
    "\n",
    "class args:\n",
    "    batch_size=8\n",
    "    workers=2\n",
    "    checkpoint=''\n",
    "    data=''\n",
    "    img_size=None\n",
    "    input_size=None\n",
    "    interpolation=''\n",
    "    log_freq=1000\n",
    "    mean=None\n",
    "    model=''\n",
    "    no_test_pool=False\n",
    "    num_classes=4\n",
    "    num_gpu=1\n",
    "    output_dir='/tmp/ph2'\n",
    "    pretrained=False\n",
    "    std=None\n",
    "    topk=5\n",
    "    \n",
    "def inference(args):\n",
    "    setup_default_logging()\n",
    "    #args = parser.parse_args()\n",
    "    #print(args)\n",
    "    # might as well try to do something useful...\n",
    "    args.pretrained = args.pretrained or not args.checkpoint\n",
    "\n",
    "    # create model\n",
    "    model = create_model(\n",
    "        args.model,\n",
    "        num_classes=args.num_classes,\n",
    "        in_chans=3,\n",
    "        pretrained=args.pretrained,\n",
    "        checkpoint_path=args.checkpoint)\n",
    "\n",
    "    _logger.info('Model %s created, param count: %d' %\n",
    "                 (args.model, sum([m.numel() for m in model.parameters()])))\n",
    "\n",
    "    config = resolve_data_config(vars(args), model=model)\n",
    "    model, test_time_pool = (model, False) if args.no_test_pool else apply_test_time_pool(model, config)\n",
    "\n",
    "    if args.num_gpu > 1:\n",
    "        model = torch.nn.DataParallel(model, device_ids=list(range(args.num_gpu))).cuda()\n",
    "    else:\n",
    "        model = model.cuda()\n",
    "\n",
    "    loader = create_loader(\n",
    "        ImageDataset(args.data),\n",
    "        input_size=config['input_size'],\n",
    "        batch_size=args.batch_size,\n",
    "        use_prefetcher=True,\n",
    "        interpolation=config['interpolation'],\n",
    "        mean=config['mean'],\n",
    "        std=config['std'],\n",
    "        num_workers=args.workers,\n",
    "        crop_pct=1.0 if test_time_pool else config['crop_pct'])\n",
    "\n",
    "    model.eval()\n",
    "\n",
    "    k = min(args.topk, args.num_classes)\n",
    "    batch_time = AverageMeter()\n",
    "    end = time.time()\n",
    "    prob = []\n",
    "    with torch.no_grad():\n",
    "        for batch_idx, (input, _) in enumerate(loader):\n",
    "            input = input.cuda()\n",
    "            labels = model(input)\n",
    "            #import pdb;pdb.set_trace()\n",
    "            #topk = labels.topk(k)[1]\n",
    "            prob.append(labels.cpu().numpy())\n",
    "\n",
    "            # measure elapsed time\n",
    "            batch_time.update(time.time() - end)\n",
    "            end = time.time()\n",
    "\n",
    "            if batch_idx % args.log_freq == 0:\n",
    "                _logger.info('Predict: [{0}/{1}] Time {batch_time.val:.3f} ({batch_time.avg:.3f})'.format(\n",
    "                    batch_idx, len(loader), batch_time=batch_time))\n",
    "\n",
    "    prob = np.concatenate(prob, axis=0)\n",
    "    return prob, loader.dataset.filenames(basename=True)\n"
   ]
  },
  {
   "cell_type": "code",
   "execution_count": 6,
   "id": "c744b9b1",
   "metadata": {
    "_kg_hide-output": true,
    "execution": {
     "iopub.execute_input": "2022-08-17T13:21:56.140931Z",
     "iopub.status.busy": "2022-08-17T13:21:56.140581Z",
     "iopub.status.idle": "2022-08-17T14:12:57.918911Z",
     "shell.execute_reply": "2022-08-17T14:12:57.917491Z"
    },
    "papermill": {
     "duration": 3061.789195,
     "end_time": "2022-08-17T14:12:57.922161",
     "exception": false,
     "start_time": "2022-08-17T13:21:56.132966",
     "status": "completed"
    },
    "tags": []
   },
   "outputs": [
    {
     "name": "stderr",
     "output_type": "stream",
     "text": [
      "Loaded  from checkpoint '../input/dflfiles/tf_efficientnet_b5_ap-456.pt'\n",
      "Model tf_efficientnet_b5_ap created, param count: 28348980\n",
      "Predict: [0/22314] Time 8.411 (8.411)\n",
      "Predict: [1000/22314] Time 0.146 (0.145)\n",
      "Predict: [2000/22314] Time 0.117 (0.139)\n",
      "Predict: [3000/22314] Time 0.111 (0.139)\n",
      "Predict: [4000/22314] Time 0.183 (0.138)\n",
      "Predict: [5000/22314] Time 0.114 (0.137)\n",
      "Predict: [6000/22314] Time 0.132 (0.137)\n",
      "Predict: [7000/22314] Time 0.115 (0.137)\n",
      "Predict: [8000/22314] Time 0.121 (0.136)\n",
      "Predict: [9000/22314] Time 0.116 (0.137)\n",
      "Predict: [10000/22314] Time 0.119 (0.137)\n",
      "Predict: [11000/22314] Time 0.125 (0.136)\n",
      "Predict: [12000/22314] Time 0.114 (0.136)\n",
      "Predict: [13000/22314] Time 0.125 (0.136)\n",
      "Predict: [14000/22314] Time 0.120 (0.137)\n",
      "Predict: [15000/22314] Time 0.123 (0.137)\n",
      "Predict: [16000/22314] Time 0.160 (0.137)\n",
      "Predict: [17000/22314] Time 0.125 (0.137)\n",
      "Predict: [18000/22314] Time 0.140 (0.137)\n",
      "Predict: [19000/22314] Time 0.134 (0.137)\n",
      "Predict: [20000/22314] Time 0.120 (0.137)\n",
      "Predict: [21000/22314] Time 0.128 (0.137)\n",
      "Predict: [22000/22314] Time 0.124 (0.137)\n"
     ]
    }
   ],
   "source": [
    "args.checkpoint = '../input/dflfiles/tf_efficientnet_b5_ap-456.pt'\n",
    "args.model = 'tf_efficientnet_b5_ap'\n",
    "\n",
    "if VALID:\n",
    "    args.data = '../work/extracted_images_train/'\n",
    "    prob_train, filenames_train = inference(args)"
   ]
  },
  {
   "cell_type": "code",
   "execution_count": 7,
   "id": "954f932b",
   "metadata": {
    "_kg_hide-output": true,
    "execution": {
     "iopub.execute_input": "2022-08-17T14:12:57.997188Z",
     "iopub.status.busy": "2022-08-17T14:12:57.995916Z",
     "iopub.status.idle": "2022-08-17T14:19:49.494199Z",
     "shell.execute_reply": "2022-08-17T14:19:49.492535Z"
    },
    "papermill": {
     "duration": 411.528075,
     "end_time": "2022-08-17T14:19:49.497738",
     "exception": false,
     "start_time": "2022-08-17T14:12:57.969663",
     "status": "completed"
    },
    "tags": []
   },
   "outputs": [
    {
     "name": "stderr",
     "output_type": "stream",
     "text": [
      "Loaded  from checkpoint '../input/dflfiles/tf_efficientnet_b5_ap-456.pt'\n",
      "Loaded  from checkpoint '../input/dflfiles/tf_efficientnet_b5_ap-456.pt'\n",
      "Model tf_efficientnet_b5_ap created, param count: 28348980\n",
      "Model tf_efficientnet_b5_ap created, param count: 28348980\n",
      "Predict: [0/3000] Time 0.552 (0.552)\n",
      "Predict: [0/3000] Time 0.552 (0.552)\n",
      "Predict: [1000/3000] Time 0.120 (0.132)\n",
      "Predict: [1000/3000] Time 0.120 (0.132)\n",
      "Predict: [2000/3000] Time 0.158 (0.134)\n",
      "Predict: [2000/3000] Time 0.158 (0.134)\n"
     ]
    }
   ],
   "source": [
    "if TEST:\n",
    "    args.data = '../work/extracted_images_test/'\n",
    "    prob_test, filenames_test = inference(args)"
   ]
  },
  {
   "cell_type": "markdown",
   "id": "4c634afc",
   "metadata": {
    "papermill": {
     "duration": 0.00846,
     "end_time": "2022-08-17T14:19:49.515383",
     "exception": false,
     "start_time": "2022-08-17T14:19:49.506923",
     "status": "completed"
    },
    "tags": []
   },
   "source": [
    "# Extract frames where action is likely to have occurred using the Image Prediction Score."
   ]
  },
  {
   "cell_type": "code",
   "execution_count": 8,
   "id": "240bbc2e",
   "metadata": {
    "execution": {
     "iopub.execute_input": "2022-08-17T14:19:49.535177Z",
     "iopub.status.busy": "2022-08-17T14:19:49.534724Z",
     "iopub.status.idle": "2022-08-17T14:19:49.554649Z",
     "shell.execute_reply": "2022-08-17T14:19:49.553308Z"
    },
    "papermill": {
     "duration": 0.0337,
     "end_time": "2022-08-17T14:19:49.557731",
     "exception": false,
     "start_time": "2022-08-17T14:19:49.524031",
     "status": "completed"
    },
    "tags": []
   },
   "outputs": [],
   "source": [
    "err_tol = {\n",
    "    'challenge': [ 0.30, 0.40, 0.50, 0.60, 0.70 ],\n",
    "    'play': [ 0.15, 0.20, 0.25, 0.30, 0.35 ],\n",
    "    'throwin': [ 0.15, 0.20, 0.25, 0.30, 0.35 ]\n",
    "}\n",
    "video_id_split = {\n",
    "    'val':[\n",
    "         '3c993bd2_0',\n",
    "         '3c993bd2_1',\n",
    "    ],\n",
    "    'train':[\n",
    "         '1606b0e6_0',\n",
    "         '1606b0e6_1',\n",
    "         '35bd9041_0',\n",
    "         '35bd9041_1',\n",
    "         '407c5a9e_1',\n",
    "         '4ffd5986_0',\n",
    "         '9a97dae4_1',\n",
    "         'cfbe2e94_0',\n",
    "         'cfbe2e94_1',\n",
    "         'ecf251d4_0',\n",
    "    ]\n",
    "}\n",
    "event_names = ['challenge', 'throwin', 'play']\n",
    "label_dict = {\n",
    "    'background':0,\n",
    "    'challenge':1,\n",
    "    'play':2,\n",
    "    'throwin':3,\n",
    "}\n",
    "event_names_with_background = ['background','challenge','play','throwin']\n",
    "\n",
    "\n",
    "def make_sub(prob, filenames):\n",
    "    \n",
    "    frame_rate = 25\n",
    "    window_size = 10\n",
    "    ignore_width = 10\n",
    "    group_count = 5\n",
    "\n",
    "    df = pd.DataFrame(prob,columns=event_names_with_background)\n",
    "    df['video_name'] = filenames\n",
    "    df['video_id'] = df['video_name'].str.split('-').str[0]\n",
    "    df['frame_id'] = df['video_name'].str.split('-').str[1].str.split('.').str[0].astype(int)\n",
    "\n",
    "    train_df = pd.DataFrame()\n",
    "    for video_id,gdf in df.groupby('video_id'):\n",
    "        for i, event in enumerate(event_names):\n",
    "            # Moving averages are used to smooth out the data.\n",
    "            prob_arr = gdf[event].rolling(window=window_size, center=True).mean().fillna(-100).values\n",
    "            gdf['rolling_prob'] = prob_arr\n",
    "            sort_arr = np.argsort(-prob_arr)\n",
    "            rank_arr = np.empty_like(sort_arr)\n",
    "            rank_arr[sort_arr] = np.arange(len(sort_arr))\n",
    "            # index list for detected action\n",
    "            idx_list = []\n",
    "            for i in range(len(prob_arr)):\n",
    "                this_idx = sort_arr[i]\n",
    "                if this_idx >= 0:\n",
    "                    # Add maximam index to index_list\n",
    "                    idx_list.append(this_idx)\n",
    "                    for parity in (-1,1):\n",
    "                        for j in range(1, ignore_width+1):\n",
    "                            ex_idx = this_idx + j * parity\n",
    "                            if ex_idx >= 0 and ex_idx < len(prob_arr):\n",
    "                                # Exclude frames near this_idx where the action occurred. \n",
    "                                sort_arr[rank_arr[ex_idx]] = -1\n",
    "            this_df = gdf.iloc[idx_list].reset_index(drop=True).reset_index().rename(columns={'index':'rank'})[['rank','video_id','frame_id']]\n",
    "            this_df['event'] = event\n",
    "            train_df = train_df.append(this_df)  \n",
    "    \n",
    "    train_df['time'] = train_df['frame_id']/25\n",
    "    train_df['score'] = 1/(train_df['rank']+1)\n",
    "    \n",
    "    return train_df"
   ]
  },
  {
   "cell_type": "code",
   "execution_count": 9,
   "id": "64e7ad60",
   "metadata": {
    "_kg_hide-input": true,
    "_kg_hide-output": true,
    "execution": {
     "iopub.execute_input": "2022-08-17T14:19:49.578535Z",
     "iopub.status.busy": "2022-08-17T14:19:49.577669Z",
     "iopub.status.idle": "2022-08-17T14:19:49.660185Z",
     "shell.execute_reply": "2022-08-17T14:19:49.658724Z"
    },
    "papermill": {
     "duration": 0.096921,
     "end_time": "2022-08-17T14:19:49.663683",
     "exception": false,
     "start_time": "2022-08-17T14:19:49.566762",
     "status": "completed"
    },
    "tags": []
   },
   "outputs": [],
   "source": [
    "# copy from https://www.kaggle.com/code/ryanholbrook/competition-metric-dfl-event-detection-ap\n",
    "\n",
    "import numpy as np\n",
    "import pandas as pd\n",
    "from pandas.testing import assert_index_equal\n",
    "from typing import Dict, Tuple\n",
    "\n",
    "tolerances = {\n",
    "    \"challenge\": [0.3, 0.4, 0.5, 0.6, 0.7],\n",
    "    \"play\": [0.15, 0.20, 0.25, 0.30, 0.35],\n",
    "    \"throwin\": [0.15, 0.20, 0.25, 0.30, 0.35],\n",
    "}\n",
    "\n",
    "def filter_detections(\n",
    "        detections: pd.DataFrame, intervals: pd.DataFrame\n",
    ") -> pd.DataFrame:\n",
    "    \"\"\"Drop detections not inside a scoring interval.\"\"\"\n",
    "    detection_time = detections.loc[:, 'time'].sort_values().to_numpy()\n",
    "    intervals = intervals.to_numpy()\n",
    "    is_scored = np.full_like(detection_time, False, dtype=bool)\n",
    "\n",
    "    i, j = 0, 0\n",
    "    while i < len(detection_time) and j < len(intervals):\n",
    "        time = detection_time[i]\n",
    "        int_ = intervals[j]\n",
    "\n",
    "        # If the detection is prior in time to the interval, go to the next detection.\n",
    "        if time < int_.left:\n",
    "            i += 1\n",
    "        # If the detection is inside the interval, keep it and go to the next detection.        \n",
    "        elif time in int_:\n",
    "            is_scored[i] = True\n",
    "            i += 1\n",
    "        # If the detection is later in time, go to the next interval.\n",
    "        else:\n",
    "            j += 1\n",
    "\n",
    "    return detections.loc[is_scored].reset_index(drop=True)\n",
    "\n",
    "\n",
    "def match_detections(\n",
    "        tolerance: float, ground_truths: pd.DataFrame, detections: pd.DataFrame\n",
    ") -> pd.DataFrame:\n",
    "    \"\"\"Match detections to ground truth events. Arguments are taken from a common event x tolerance x video evaluation group.\"\"\"\n",
    "    detections_sorted = detections.sort_values('score', ascending=False).dropna()\n",
    "\n",
    "    is_matched = np.full_like(detections_sorted['event'], False, dtype=bool)\n",
    "    gts_matched = set()\n",
    "    for i, det in enumerate(detections_sorted.itertuples(index=False)):\n",
    "        best_error = tolerance\n",
    "        best_gt = None\n",
    "\n",
    "        for gt in ground_truths.itertuples(index=False):\n",
    "            error = abs(det.time - gt.time)\n",
    "            if error < best_error and not gt in gts_matched:\n",
    "                best_gt = gt\n",
    "                best_error = error\n",
    "            \n",
    "        if best_gt is not None:\n",
    "            is_matched[i] = True\n",
    "            gts_matched.add(best_gt)\n",
    "\n",
    "    detections_sorted['matched'] = is_matched\n",
    "\n",
    "    return detections_sorted\n",
    "\n",
    "\n",
    "def precision_recall_curve(\n",
    "        matches: np.ndarray, scores: np.ndarray, p: int\n",
    ") -> Tuple[np.ndarray, np.ndarray, np.ndarray]:\n",
    "    if len(matches) == 0:\n",
    "        return [1], [0], []\n",
    "\n",
    "    # Sort matches by decreasing confidence\n",
    "    idxs = np.argsort(scores, kind='stable')[::-1]\n",
    "    scores = scores[idxs]\n",
    "    matches = matches[idxs]\n",
    "    \n",
    "    distinct_value_indices = np.where(np.diff(scores))[0]\n",
    "    threshold_idxs = np.r_[distinct_value_indices, matches.size - 1]\n",
    "    thresholds = scores[threshold_idxs]\n",
    "    \n",
    "    # Matches become TPs and non-matches FPs as confidence threshold decreases\n",
    "    tps = np.cumsum(matches)[threshold_idxs]\n",
    "    fps = np.cumsum(~matches)[threshold_idxs]\n",
    "    \n",
    "    precision = tps / (tps + fps)\n",
    "    precision[np.isnan(precision)] = 0\n",
    "    recall = tps / p  # total number of ground truths might be different than total number of matches\n",
    "    \n",
    "    # Stop when full recall attained and reverse the outputs so recall is non-increasing.\n",
    "    last_ind = tps.searchsorted(tps[-1])\n",
    "    sl = slice(last_ind, None, -1)\n",
    "\n",
    "    # Final precision is 1 and final recall is 0\n",
    "    return np.r_[precision[sl], 1], np.r_[recall[sl], 0], thresholds[sl]\n",
    "\n",
    "\n",
    "def average_precision_score(matches: np.ndarray, scores: np.ndarray, p: int) -> float:\n",
    "    precision, recall, _ = precision_recall_curve(matches, scores, p)\n",
    "    # Compute step integral\n",
    "    return -np.sum(np.diff(recall) * np.array(precision)[:-1])\n",
    "\n",
    "\n",
    "def event_detection_ap(\n",
    "        solution: pd.DataFrame,\n",
    "        submission: pd.DataFrame,\n",
    "        tolerances: Dict[str, float],\n",
    ") -> float:\n",
    "\n",
    "    assert_index_equal(solution.columns, pd.Index(['video_id', 'time', 'event']))\n",
    "    assert_index_equal(submission.columns, pd.Index(['video_id', 'time', 'event', 'score']))\n",
    "\n",
    "    # Ensure solution and submission are sorted properly\n",
    "    solution = solution.sort_values(['video_id', 'time'])\n",
    "    submission = submission.sort_values(['video_id', 'time'])\n",
    "    \n",
    "    # Extract scoring intervals.\n",
    "    intervals = (\n",
    "        solution\n",
    "        .query(\"event in ['start', 'end']\")\n",
    "        .assign(interval=lambda x: x.groupby(['video_id', 'event']).cumcount())\n",
    "        .pivot(index='interval', columns=['video_id', 'event'], values='time')\n",
    "        .stack('video_id')\n",
    "        .swaplevel()\n",
    "        .sort_index()\n",
    "        .loc[:, ['start', 'end']]\n",
    "        .apply(lambda x: pd.Interval(*x, closed='both'), axis=1)\n",
    "    )\n",
    "\n",
    "    # Extract ground-truth events.\n",
    "    ground_truths = (\n",
    "        solution\n",
    "        .query(\"event not in ['start', 'end']\")\n",
    "        .reset_index(drop=True)\n",
    "    )\n",
    "\n",
    "    # Map each event class to its prevalence (needed for recall calculation)\n",
    "    class_counts = ground_truths.value_counts('event').to_dict()\n",
    "\n",
    "    # Create table for detections with a column indicating a match to a ground-truth event\n",
    "    detections = submission.assign(matched = False)\n",
    "\n",
    "    # Remove detections outside of scoring intervals\n",
    "    detections_filtered = []\n",
    "    for (det_group, dets), (int_group, ints) in zip(\n",
    "        detections.groupby('video_id'), intervals.groupby('video_id')\n",
    "    ):\n",
    "        assert det_group == int_group\n",
    "        detections_filtered.append(filter_detections(dets, ints))\n",
    "    detections_filtered = pd.concat(detections_filtered, ignore_index=True)\n",
    "\n",
    "    # Create table of event-class x tolerance x video_id values\n",
    "    aggregation_keys = pd.DataFrame(\n",
    "        [(ev, tol, vid)\n",
    "         for ev in tolerances.keys()\n",
    "         for tol in tolerances[ev]\n",
    "         for vid in ground_truths['video_id'].unique()],\n",
    "        columns=['event', 'tolerance', 'video_id'],\n",
    "    )\n",
    "\n",
    "    # Create match evaluation groups: event-class x tolerance x video_id\n",
    "    detections_grouped = (\n",
    "        aggregation_keys\n",
    "        .merge(detections_filtered, on=['event', 'video_id'], how='left')\n",
    "        .groupby(['event', 'tolerance', 'video_id'])\n",
    "    )\n",
    "    ground_truths_grouped = (\n",
    "        aggregation_keys\n",
    "        .merge(ground_truths, on=['event', 'video_id'], how='left')\n",
    "        .groupby(['event', 'tolerance', 'video_id'])\n",
    "    )\n",
    "    \n",
    "    # Match detections to ground truth events by evaluation group\n",
    "    detections_matched = []\n",
    "    for key in aggregation_keys.itertuples(index=False):\n",
    "        dets = detections_grouped.get_group(key)\n",
    "        gts = ground_truths_grouped.get_group(key)\n",
    "        detections_matched.append(\n",
    "            match_detections(dets['tolerance'].iloc[0], gts, dets)\n",
    "        )\n",
    "    detections_matched = pd.concat(detections_matched)\n",
    "    \n",
    "    # Compute AP per event x tolerance group\n",
    "    event_classes = ground_truths['event'].unique()\n",
    "    ap_table = (\n",
    "        detections_matched\n",
    "        .query(\"event in @event_classes\")\n",
    "        .groupby(['event', 'tolerance']).apply(\n",
    "        lambda group: average_precision_score(\n",
    "        group['matched'].to_numpy(),\n",
    "                group['score'].to_numpy(),\n",
    "                class_counts[group['event'].iat[0]],\n",
    "            )\n",
    "        )\n",
    "    )\n",
    "\n",
    "    # Average over tolerances, then over event classes\n",
    "    mean_ap = ap_table.groupby('event').mean().mean()\n",
    "\n",
    "    return mean_ap\n",
    "\n",
    "solution = pd.read_csv(\"../input/dfl-bundesliga-data-shootout/train.csv\", usecols=['video_id', 'time', 'event'])"
   ]
  },
  {
   "cell_type": "code",
   "execution_count": 10,
   "id": "146add5b",
   "metadata": {
    "execution": {
     "iopub.execute_input": "2022-08-17T14:19:49.684491Z",
     "iopub.status.busy": "2022-08-17T14:19:49.682996Z",
     "iopub.status.idle": "2022-08-17T14:20:27.772359Z",
     "shell.execute_reply": "2022-08-17T14:20:27.770934Z"
    },
    "papermill": {
     "duration": 38.111136,
     "end_time": "2022-08-17T14:20:27.783840",
     "exception": false,
     "start_time": "2022-08-17T14:19:49.672704",
     "status": "completed"
    },
    "tags": []
   },
   "outputs": [
    {
     "name": "stdout",
     "output_type": "stream",
     "text": [
      "0.21560236491581442\n"
     ]
    }
   ],
   "source": [
    "if VALID:\n",
    "    train_df = make_sub(prob_train, filenames_train)\n",
    "    score = event_detection_ap(solution[solution['video_id'].isin(train_df['video_id'].unique())], train_df[['video_id', 'time', 'event', 'score']], tolerances)\n",
    "    print(score) # this score was 0.21558808109342775"
   ]
  },
  {
   "cell_type": "code",
   "execution_count": 11,
   "id": "ddd95c3e",
   "metadata": {
    "execution": {
     "iopub.execute_input": "2022-08-17T14:20:27.805112Z",
     "iopub.status.busy": "2022-08-17T14:20:27.803888Z",
     "iopub.status.idle": "2022-08-17T14:20:28.509328Z",
     "shell.execute_reply": "2022-08-17T14:20:28.507910Z"
    },
    "papermill": {
     "duration": 0.718835,
     "end_time": "2022-08-17T14:20:28.512636",
     "exception": false,
     "start_time": "2022-08-17T14:20:27.793801",
     "status": "completed"
    },
    "tags": []
   },
   "outputs": [],
   "source": [
    "if TEST:\n",
    "    test_df = make_sub(prob_test, filenames_test)\n",
    "    test_df[['video_id', 'time', 'event', 'score']].to_csv(\"submission.csv\", index=False)\n",
    "\n"
   ]
  },
  {
   "cell_type": "code",
   "execution_count": null,
   "id": "02b6113b",
   "metadata": {
    "papermill": {
     "duration": 0.007758,
     "end_time": "2022-08-17T14:20:28.529649",
     "exception": false,
     "start_time": "2022-08-17T14:20:28.521891",
     "status": "completed"
    },
    "tags": []
   },
   "outputs": [],
   "source": []
  }
 ],
 "metadata": {
  "kernelspec": {
   "display_name": "Python 3",
   "language": "python",
   "name": "python3"
  },
  "language_info": {
   "codemirror_mode": {
    "name": "ipython",
    "version": 3
   },
   "file_extension": ".py",
   "mimetype": "text/x-python",
   "name": "python",
   "nbconvert_exporter": "python",
   "pygments_lexer": "ipython3",
   "version": "3.7.12"
  },
  "papermill": {
   "default_parameters": {},
   "duration": 7050.923182,
   "end_time": "2022-08-17T14:20:31.855920",
   "environment_variables": {},
   "exception": null,
   "input_path": "__notebook__.ipynb",
   "output_path": "__notebook__.ipynb",
   "parameters": {},
   "start_time": "2022-08-17T12:23:00.932738",
   "version": "2.3.4"
  }
 },
 "nbformat": 4,
 "nbformat_minor": 5
}
